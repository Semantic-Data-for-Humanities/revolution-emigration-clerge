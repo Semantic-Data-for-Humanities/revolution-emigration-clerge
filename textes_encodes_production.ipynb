{
 "cells": [
  {
   "cell_type": "markdown",
   "metadata": {
    "tags": []
   },
   "source": [
    "# Introduction\n",
    "\n",
    "\n",
    "Utiliser l'environnement _emigration_, cf. les instructions de la page d'accueil du dépôt et le fichier _environment.yml_"
   ]
  },
  {
   "cell_type": "code",
   "execution_count": null,
   "metadata": {},
   "outputs": [],
   "source": [
    "import mammoth\n",
    "\n",
    "import pprint, re, os\n",
    "from lxml import etree as etree"
   ]
  },
  {
   "cell_type": "markdown",
   "metadata": {},
   "source": [
    "## Création de fonctions locales"
   ]
  },
  {
   "cell_type": "code",
   "execution_count": null,
   "metadata": {},
   "outputs": [],
   "source": [
    "### Fonction qui marche, mettre toujours i = 0 au début – récursive\n",
    "\n",
    "# Attention: tous les p avant le premier sous-h ne sont pas pris en compte\n",
    "# dans la fonction, actuellement.\n",
    "# De même à la fin d'une division il n'y a pas, par définition, de p hors h\n",
    "\n",
    "def traitement_h(parent_childrens_list, parent_el, i):\n",
    "    i = i + 1\n",
    "    h = 'h' + str(i)\n",
    "    if h in [ e[1] for e in parent_childrens_list]:\n",
    "        for e in parent_childrens_list:\n",
    "            if e[1] == h:\n",
    "                id_e = e[0]\n",
    "                div = etree.Element(\"div\")\n",
    "                div.append(e[2])\n",
    "\n",
    "                ## produce element childrens list\n",
    "                childs_list = []\n",
    "                for child in parent_childrens_list:\n",
    "                    if child[0] > id_e:\n",
    "                        if child[1] == h:\n",
    "                            break\n",
    "                        else: \n",
    "                            childs_list.append(child)\n",
    "\n",
    "                ### recursive treatment of following hs: h2, h3, ...\n",
    "                traitement_h(childs_list, div, i)\n",
    "                \n",
    "                parent_el.append(div)\n",
    "                \n",
    "    else:\n",
    "        [parent_el.append(e[2]) for e in parent_childrens_list]\n",
    "    \n",
    "    return parent_el"
   ]
  },
  {
   "cell_type": "code",
   "execution_count": null,
   "metadata": {},
   "outputs": [],
   "source": []
  },
  {
   "cell_type": "code",
   "execution_count": null,
   "metadata": {},
   "outputs": [],
   "source": []
  },
  {
   "cell_type": "markdown",
   "metadata": {},
   "source": [
    "# Importation du document word et production des *spans* HTML"
   ]
  },
  {
   "cell_type": "code",
   "execution_count": null,
   "metadata": {},
   "outputs": [],
   "source": []
  },
  {
   "cell_type": "code",
   "execution_count": null,
   "metadata": {},
   "outputs": [],
   "source": [
    "### Doc mammoth :\n",
    "# https://github.com/mwilliamson/python-mammoth\n",
    "# https://recordnotfound.com/mammoth-js-mwilliamson-35447\n",
    "# https://www.npmjs.com/package/mammoth_custom\n",
    "\n",
    "\n",
    "# explications utiles au sujets des runs dans Al Sweigart, Automate, 'run attributes'\n",
    "# https://automatetheboringstuff.com/chapter13/ (n'utilise pas mammoth mais docx)\n",
    "# r = runs: styles dans le texte, au dessous du paragraphe ; p = styles de paragraphes\n",
    "\n",
    "## Définit le mapping entre les styles Word et les éléments XML (tags) de sortie\n",
    "style_map =\"\"\"\n",
    "p[style-name='Heading 2'] => h2.test:fresh\n",
    "r[style-name='semAnn_Segment'] => span.semAnn\n",
    "\"\"\"\n",
    "\n",
    "# p[style-name='Heading 2'] => h2:fresh"
   ]
  },
  {
   "cell_type": "markdown",
   "metadata": {},
   "source": [
    "#### Définir les chemins où se trouvent les fichiers"
   ]
  },
  {
   "cell_type": "code",
   "execution_count": null,
   "metadata": {},
   "outputs": [],
   "source": [
    "### Chemin des documents en .docx\n",
    "folder_path = 'fichiers/'\n",
    "### Chemin du dossier des documents transformes \n",
    "folder_path_xml = 'fichiers_xml/'\n"
   ]
  },
  {
   "cell_type": "code",
   "execution_count": null,
   "metadata": {},
   "outputs": [],
   "source": [
    "l_docs = []\n",
    "for d in os.listdir(folder_path):\n",
    "    # vérifie que le document ne commence pas avec un '.', particularité MacOS pour docs ouverts\n",
    "    if d[0] != '.':\n",
    "        if('.doc' in d):\n",
    "            l_docs.append(d)\n",
    "\n"
   ]
  },
  {
   "cell_type": "code",
   "execution_count": null,
   "metadata": {},
   "outputs": [],
   "source": [
    "l_docs"
   ]
  },
  {
   "cell_type": "code",
   "execution_count": null,
   "metadata": {},
   "outputs": [],
   "source": []
  },
  {
   "cell_type": "code",
   "execution_count": null,
   "metadata": {},
   "outputs": [],
   "source": [
    "u_e = [\n",
    "    {'from': '{', 'to':'<span class=\"tags\">'},\n",
    "    {'from': '}', 'to':'</span>'},\n",
    "    {'from': '(\\|)([0-9\\-]{0,10})(\\|)', 'to':'<date when=\"\\g<2>\" />'},\n",
    "    {'from': '(§)(\\s{0,2})(.{0,20})(\\/)(.{0,20})(\\s{0,2})(§)', 'to':'<rs class=\"hoover\" ref=\"\\g<5>\">\\g<3></rs>'}\n",
    "    \n",
    "]"
   ]
  },
  {
   "cell_type": "code",
   "execution_count": null,
   "metadata": {},
   "outputs": [],
   "source": [
    "for doc in l_docs:\n",
    "    doc_name = doc.replace('.docx', '')\n",
    "    doc_address = folder_path + doc_name + '.docx'\n",
    "    xml_doc_address = folder_path_xml + doc_name + '.html'\n",
    "\n",
    "    with open(doc_address, \"rb\") as docx_file:\n",
    "        print('\\n————\\n', xml_doc_address, '\\n')\n",
    "        try:\n",
    "            result = mammoth.convert_to_html(docx_file, style_map=style_map)\n",
    "            html = result.value # The generated HTML\n",
    "            messages = result.messages # Any messages, such as warnings during conversion\n",
    "        except Exception as e:\n",
    "            print(e)\n",
    "    print( messages) \n",
    "    \n",
    "    html_doc = '<body>' + html + '</body>'\n",
    "    lxml_root = etree.XML(html_doc)\n",
    "    es = lxml_root.xpath('/body/*')\n",
    "\n",
    "    es_list = []\n",
    "    i = 1\n",
    "    for e in es:\n",
    "        es_list.append([i, e.tag, e])\n",
    "        i = i + 1\n",
    "    root = etree.Element(\"body\")\n",
    "    a = traitement_h(es_list, root, 0)\n",
    "    a_string = etree.tostring(a,pretty_print=True,encoding='unicode')\n",
    "\n",
    "    for l in u_e:\n",
    "        p = re.compile(l['from'])\n",
    "        txt_1 = (p.sub(l['to'], a_string))\n",
    "        a_string = txt_1\n",
    "    \n",
    "    # Enlevé: '; charset=utf-8'\n",
    "    html_doc_complet = \"\"\"<html><head><title>\"\"\" + doc_name + \"\"\"</title>\n",
    "    <meta http-equiv=\"Content-Type\" content=\"text/html\"/>\n",
    "<link rel=\"stylesheet\" href=\"style.css\" type=\"text/css\"/></head>\"\"\" + a_string + '</html>'  \n",
    "    # print(html_doc_complet[:1200])\n",
    "    \n",
    "    with open(xml_doc_address, 'w') as fichier:  \n",
    "        fichier.write(html_doc_complet)"
   ]
  },
  {
   "cell_type": "code",
   "execution_count": null,
   "metadata": {},
   "outputs": [],
   "source": []
  },
  {
   "cell_type": "code",
   "execution_count": null,
   "metadata": {},
   "outputs": [],
   "source": []
  },
  {
   "cell_type": "markdown",
   "metadata": {},
   "source": [
    "## Exploration des documents produits"
   ]
  },
  {
   "cell_type": "markdown",
   "metadata": {},
   "source": [
    "Cf. le carnet 'textes_encodes_analyse'"
   ]
  }
 ],
 "metadata": {
  "kernelspec": {
   "display_name": "emigration",
   "language": "python",
   "name": "emigration"
  },
  "language_info": {
   "codemirror_mode": {
    "name": "ipython",
    "version": 3
   },
   "file_extension": ".py",
   "mimetype": "text/x-python",
   "name": "python",
   "nbconvert_exporter": "python",
   "pygments_lexer": "ipython3",
   "version": "3.10.11"
  }
 },
 "nbformat": 4,
 "nbformat_minor": 4
}
